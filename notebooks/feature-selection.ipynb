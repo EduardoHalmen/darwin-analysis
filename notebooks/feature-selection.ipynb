{
 "cells": [
  {
   "cell_type": "code",
   "execution_count": 1,
   "metadata": {},
   "outputs": [
    {
     "name": "stderr",
     "output_type": "stream",
     "text": [
      "\u001b[32m2025-04-06 17:22:52.562\u001b[0m | \u001b[1mINFO    \u001b[0m | \u001b[36mdarwin.config\u001b[0m:\u001b[36m<module>\u001b[0m:\u001b[36m11\u001b[0m - \u001b[1mPROJ_ROOT path is: /Users/eduardoduarte/Projects/refactor-darwin/darwin\u001b[0m\n"
     ]
    }
   ],
   "source": [
    "import pandas as pd\n",
    "import numpy as np\n",
    "from sklearn.ensemble import RandomForestClassifier\n",
    "from sklearn.ensemble import RandomForestClassifier\n",
    "from sklearn.model_selection import train_test_split\n",
    "from sklearn.inspection import permutation_importance\n",
    "from sklearn.feature_selection import SelectKBest, f_classif, RFE\n",
    "from sklearn.svm import SVC\n",
    "\n",
    "from darwin.config import (\n",
    "    PROCESSED_DATA_DIR, \n",
    "    RANDOM_STATE, \n",
    "    CRITERION, \n",
    "    MAX_DEPTH, \n",
    "    CLASS_WEIGHT, \n",
    "    FEATURE_NUM\n",
    ")"
   ]
  },
  {
   "cell_type": "code",
   "execution_count": 2,
   "metadata": {},
   "outputs": [],
   "source": [
    "input_path = PROCESSED_DATA_DIR / 'preprocessed_data.csv'"
   ]
  },
  {
   "cell_type": "code",
   "execution_count": 3,
   "metadata": {},
   "outputs": [],
   "source": [
    "df = pd.read_csv(input_path)"
   ]
  },
  {
   "cell_type": "code",
   "execution_count": 4,
   "metadata": {},
   "outputs": [],
   "source": [
    "def select_feature_imp(df: pd.DataFrame, n: int) -> list[str]:\n",
    "    \"\"\"\n",
    "    Given a DataFrame, returns the n most important features based on the \n",
    "    feature_importance_ of a RandomForestClassifier\n",
    "        df: pd.DataFrame\n",
    "            DataFrame with the data\n",
    "        n: int\n",
    "            Number of features to return\n",
    "        return: list\n",
    "            List with the n most important features\n",
    "    \"\"\"\n",
    "    # Splits the target and the features\n",
    "    X = df.drop(\"class\", axis='columns')\n",
    "    y = df[\"class\"]\n",
    "\n",
    "    X_train, X_test, y_train, y_test = train_test_split(X, y, stratify=y, test_size=0.2, random_state=RANDOM_STATE)\n",
    "    feature_names = [f\"feature {i}\" for i in range(X.shape[1])]\n",
    "    \n",
    "    # Train the Forest\n",
    "    forest = RandomForestClassifier(n_estimators=100,\n",
    "                                random_state=RANDOM_STATE,\n",
    "                                criterion=CRITERION,\n",
    "                                max_depth=MAX_DEPTH,\n",
    "                                class_weight=CLASS_WEIGHT)\n",
    "    forest.fit(X, y)\n",
    "\n",
    "    # TODO: Run permutation importance to select most important features\n",
    "    result = permutation_importance(\n",
    "        forest, X_test, y_test, n_repeats=1, random_state=42, n_jobs=1\n",
    "    )\n",
    "    \n",
    "    # Get the feature importance\n",
    "    feature_imp = pd.Series(forest.feature_importances_, index=X.columns)\n",
    "    feature_imp = feature_imp.sort_values(ascending=False)\n",
    "\n",
    "    selected_features = feature_imp.head(n).index.tolist()\n",
    "\n",
    "    return selected_features"
   ]
  },
  {
   "cell_type": "code",
   "execution_count": 13,
   "metadata": {},
   "outputs": [],
   "source": [
    "def select_anova(df: pd.DataFrame, n: int, function) -> list[str]:\n",
    "    \"\"\"\n",
    "    Given a DataFrame, returns the n most important features based on the \n",
    "    ANOVA F-Value from SelectKBest\n",
    "        df: pd.DataFrame\n",
    "            DataFrame with the data\n",
    "        n: int\n",
    "            Number of features to return\n",
    "        return: list\n",
    "            List with the n most important features\n",
    "    \"\"\"\n",
    "    # Splits the target and the features\n",
    "    X = df.drop(\"class\", axis='columns')\n",
    "    y = df[\"class\"]\n",
    "\n",
    "    # Fit the selector to the data\n",
    "    selector = SelectKBest(function, k=n)\n",
    "    selector.fit(X, y)\n",
    "\n",
    "    # Get the selected features with highest f-value\n",
    "    selected_indices = np.argsort(selector.scores_)[::-1][:n]\n",
    "    selected_features = X.columns[selected_indices].tolist()\n",
    "    \n",
    "    return selected_features\n",
    "\n"
   ]
  },
  {
   "cell_type": "code",
   "execution_count": 6,
   "metadata": {},
   "outputs": [],
   "source": [
    "def select_rfe(df: pd.DataFrame, n: int) -> list[str]:\n",
    "    \"\"\"\n",
    "    Given a DataFrame, returns the n most important features selected\n",
    "    by Recursive Feature Elimination with a Support Vector Classifier\n",
    "        df: pd.DataFrame\n",
    "            DataFrame with the data\n",
    "        n: int\n",
    "            Number of features to return\n",
    "        return: list\n",
    "            List with the n most important features\n",
    "    \"\"\"\n",
    "    # Splits the target and and features\n",
    "    X = df.drop(\"class\", axis='columns')\n",
    "    y = df[\"class\"]\n",
    "\n",
    "    # Fit the selector to the data\n",
    "    estimator = SVC(kernel=\"linear\")\n",
    "    selector = RFE(estimator, n_features_to_select=n, step=1)\n",
    "    selector = selector.fit(X, y)\n",
    "\n",
    "    selected_features = X.columns[selector.support_].tolist()\n",
    "\n",
    "    return selected_features"
   ]
  },
  {
   "cell_type": "code",
   "execution_count": null,
   "metadata": {},
   "outputs": [
    {
     "name": "stdout",
     "output_type": "stream",
     "text": [
      "Counter({'total_time9': 3, 'total_time15': 3, 'total_time3': 2, 'mean_speed_in_air17': 2, 'gmrt_in_air17': 2, 'air_time15': 2, 'gmrt_in_air7': 1, 'mean_gmrt7': 1, 'disp_index23': 1, 'mean_speed_in_air7': 1, 'paper_time9': 1, 'air_time16': 1, 'mean_gmrt17': 1, 'disp_index22': 1, 'total_time16': 1, 'total_time13': 1, 'mean_acc_in_air17': 1, 'gmrt_on_paper17': 1, 'mean_jerk_in_air17': 1, 'mean_speed_in_air25': 1, 'mean_speed_in_air23': 1, 'total_time23': 1, 'air_time23': 1, 'air_time17': 1, 'total_time6': 1, 'total_time17': 1, 'paper_time17': 1, 'total_time8': 1, 'air_time22': 1, 'paper_time23': 1, 'air_time5': 1, 'paper_time22': 1, 'total_time22': 1, 'total_time7': 1, 'num_of_pendown19': 1, 'pressure_mean5': 1, 'mean_jerk_in_air2': 1, 'gmrt_on_paper3': 1, 'disp_index4': 1, 'pressure_var5': 1, 'disp_index8': 1, 'mean_jerk_on_paper8': 1, 'gmrt_on_paper10': 1, 'paper_time12': 1, 'mean_acc_in_air13': 1, 'num_of_pendown14': 1, 'max_y_extension19': 1, 'pressure_var19': 1, 'paper_time20': 1, 'disp_index21': 1, 'gmrt_in_air23': 1, 'air_time24': 1})\n"
     ]
    }
   ],
   "source": [
    "from collections import Counter\n",
    "\n",
    "counter = Counter(select_anova(df, FEATURE_NUM, f_classif) + select_feature_imp(df, FEATURE_NUM) + select_rfe(df, FEATURE_NUM))\n",
    "print(counter)"
   ]
  },
  {
   "cell_type": "code",
   "execution_count": null,
   "metadata": {},
   "outputs": [],
   "source": [
    "feature_imp = df[select_feature_imp(df, FEATURE_NUM)]\n",
    "anova = df[select_anova(df, FEATURE_NUM, f_classif)]\n",
    "rfe = df[select_rfe(df, FEATURE_NUM)]"
   ]
  },
  {
   "cell_type": "code",
   "execution_count": 9,
   "metadata": {},
   "outputs": [
    {
     "name": "stdout",
     "output_type": "stream",
     "text": [
      "Index(['total_time23', 'total_time15', 'air_time15', 'air_time23',\n",
      "       'air_time17', 'total_time6', 'total_time17', 'paper_time17',\n",
      "       'total_time3', 'total_time8', 'air_time22', 'paper_time23', 'air_time5',\n",
      "       'paper_time22', 'total_time22', 'total_time7', 'num_of_pendown19',\n",
      "       'total_time9', 'pressure_mean5', 'mean_speed_in_air17'],\n",
      "      dtype='object')\n",
      "Index(['gmrt_in_air7', 'mean_gmrt7', 'disp_index23', 'mean_speed_in_air7',\n",
      "       'paper_time9', 'air_time16', 'mean_gmrt17', 'total_time9',\n",
      "       'disp_index22', 'total_time3', 'total_time16', 'total_time13',\n",
      "       'mean_speed_in_air17', 'mean_acc_in_air17', 'gmrt_on_paper17',\n",
      "       'mean_jerk_in_air17', 'total_time15', 'mean_speed_in_air25',\n",
      "       'gmrt_in_air17', 'mean_speed_in_air23'],\n",
      "      dtype='object')\n",
      "Index(['mean_jerk_in_air2', 'gmrt_on_paper3', 'disp_index4', 'pressure_var5',\n",
      "       'disp_index8', 'mean_jerk_on_paper8', 'total_time9', 'gmrt_on_paper10',\n",
      "       'paper_time12', 'mean_acc_in_air13', 'num_of_pendown14', 'air_time15',\n",
      "       'total_time15', 'gmrt_in_air17', 'max_y_extension19', 'pressure_var19',\n",
      "       'paper_time20', 'disp_index21', 'gmrt_in_air23', 'air_time24'],\n",
      "      dtype='object')\n"
     ]
    }
   ],
   "source": [
    "print(feature_imp.columns)\n",
    "print(anova.columns)\n",
    "print(rfe.columns)"
   ]
  },
  {
   "cell_type": "code",
   "execution_count": 10,
   "metadata": {},
   "outputs": [],
   "source": [
    "assert feature_imp.shape[1] == FEATURE_NUM\n",
    "assert anova.shape[1] == FEATURE_NUM\n",
    "assert rfe.shape[1] == FEATURE_NUM"
   ]
  },
  {
   "cell_type": "code",
   "execution_count": null,
   "metadata": {},
   "outputs": [
    {
     "data": {
      "text/plain": [
       "['mean_jerk_in_air2',\n",
       " 'gmrt_on_paper3',\n",
       " 'disp_index4',\n",
       " 'pressure_var5',\n",
       " 'disp_index8',\n",
       " 'mean_jerk_on_paper8',\n",
       " 'total_time9',\n",
       " 'gmrt_on_paper10',\n",
       " 'paper_time12',\n",
       " 'mean_acc_in_air13',\n",
       " 'num_of_pendown14',\n",
       " 'air_time15',\n",
       " 'total_time15',\n",
       " 'gmrt_in_air17',\n",
       " 'max_y_extension19',\n",
       " 'pressure_var19',\n",
       " 'paper_time20',\n",
       " 'disp_index21',\n",
       " 'gmrt_in_air23',\n",
       " 'air_time24']"
      ]
     },
     "execution_count": 11,
     "metadata": {},
     "output_type": "execute_result"
    }
   ],
   "source": [
    "import matplotlib.pyplot as plt\n",
    "\n",
    "select_feature_imp(df, FEATURE_NUM)\n",
    "select_anova(df, FEATURE_NUM, f_classif)\n",
    "select_rfe(df, FEATURE_NUM)"
   ]
  },
  {
   "cell_type": "code",
   "execution_count": null,
   "metadata": {},
   "outputs": [
    {
     "data": {
      "image/png": "[encoded data removed]",
      "text/plain": [
       "<Figure size 1200x600 with 1 Axes>"
      ]
     },
     "metadata": {},
     "output_type": "display_data"
    }
   ],
   "source": [
    "import matplotlib.pyplot as plt\n",
    "import seaborn as sns\n",
    "import pandas as pd\n",
    "from sklearn.feature_selection import \n",
    "\n",
    "def plot_list_overlap(list_a, list_b, list_c):\n",
    "    # Combine all unique strings from the lists\n",
    "    all_strings = sorted(set(list_a + list_b + list_c))\n",
    "\n",
    "    # Create a DataFrame to represent the presence of strings in each list\n",
    "    data = {\n",
    "        \"Entropy\": [1 if string in list_a else 0 for string in all_strings],\n",
    "        \"ANOVA\": [1 if string in list_b else 0 for string in all_strings],\n",
    "        \"RFE\": [1 if string in list_c else 0 for string in all_strings],\n",
    "    }\n",
    "    df = pd.DataFrame(data, index=all_strings)\n",
    "\n",
    "    # Filter strings that exist in at least two lists\n",
    "    df = df[df.sum(axis=1) >= 2]\n",
    "\n",
    "    # Plot the heatmap\n",
    "    plt.figure(figsize=(12, 6))\n",
    "    sns.heatmap(df.T, cmap=\"Blues\", cbar=False, linewidths=0.5, linecolor=\"gray\", annot=True, fmt=\"d\")\n",
    "\n",
    "    # Customize the plot\n",
    "    plt.title(\"Overlap of features Across Lists (At Least in Two Lists)\", fontsize=16)\n",
    "    plt.xlabel(\"Features\", fontsize=12)\n",
    "    #plt.ylabel(\"Lists\", fontsize=12)\n",
    "    #plt.xticks(rotation=45, ha=\"right\", fontsize=10)\n",
    "    plt.yticks(fontsize=10)\n",
    "    plt.tight_layout()\n",
    "\n",
    "    plt.show()\n",
    "\n",
    "# Example lists\n",
    "list_a = select_feature_imp(df, FEATURE_NUM)\n",
    "list_b = select_anova(df, FEATURE_NUM)\n",
    "list_c = select_rfe(df, FEATURE_NUM)\n",
    "\n",
    "# Call the function to plot the overlap\n",
    "plot_list_overlap(list_a, list_b, list_c)"
   ]
  },
  {
   "cell_type": "code",
   "execution_count": null,
   "metadata": {},
   "outputs": [],
   "source": []
  }
 ],
 "metadata": {
  "kernelspec": {
   "display_name": "refactor-darwin",
   "language": "python",
   "name": "python3"
  },
  "language_info": {
   "codemirror_mode": {
    "name": "ipython",
    "version": 3
   },
   "file_extension": ".py",
   "mimetype": "text/x-python",
   "name": "python",
   "nbconvert_exporter": "python",
   "pygments_lexer": "ipython3",
   "version": "3.10.16"
  }
 },
 "nbformat": 4,
 "nbformat_minor": 2
}

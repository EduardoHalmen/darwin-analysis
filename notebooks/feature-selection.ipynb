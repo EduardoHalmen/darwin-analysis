{
 "cells": [
  {
   "cell_type": "code",
   "execution_count": 1,
   "metadata": {},
   "outputs": [
    {
     "name": "stderr",
     "output_type": "stream",
     "text": [
      "\u001b[32m2025-03-28 10:20:31.644\u001b[0m | \u001b[1mINFO    \u001b[0m | \u001b[36mdarwin.config\u001b[0m:\u001b[36m<module>\u001b[0m:\u001b[36m11\u001b[0m - \u001b[1mPROJ_ROOT path is: /Users/eduardoduarte/Projects/refactor-darwin/darwin\u001b[0m\n"
     ]
    }
   ],
   "source": [
    "import pandas as pd\n",
    "import numpy as np\n",
    "from sklearn.ensemble import RandomForestClassifier\n",
    "from sklearn.ensemble import RandomForestClassifier\n",
    "from sklearn.feature_selection import SelectKBest, f_classif, RFE\n",
    "from sklearn.svm import SVC\n",
    "\n",
    "from darwin.config import (\n",
    "    PROCESSED_DATA_DIR, \n",
    "    RANDOM_STATE, \n",
    "    CRITERION, \n",
    "    MAX_DEPTH, \n",
    "    CLASS_WEIGHT, \n",
    "    FEATURE_NUM\n",
    ")"
   ]
  },
  {
   "cell_type": "code",
   "execution_count": 2,
   "metadata": {},
   "outputs": [],
   "source": [
    "input_path = PROCESSED_DATA_DIR / 'preprocessed_data.csv'"
   ]
  },
  {
   "cell_type": "code",
   "execution_count": 3,
   "metadata": {},
   "outputs": [],
   "source": [
    "df = pd.read_csv(input_path)"
   ]
  },
  {
   "cell_type": "code",
   "execution_count": 4,
   "metadata": {},
   "outputs": [],
   "source": [
    "def select_feature_imp(df: pd.DataFrame, n: int) -> list[str]:\n",
    "    \"\"\"\n",
    "    Given a DataFrame, returns the n most important features based on the \n",
    "    feature_importance_ of a RandomForestClassifier\n",
    "        df: pd.DataFrame\n",
    "            DataFrame with the data\n",
    "        n: int\n",
    "            Number of features to return\n",
    "        return: list\n",
    "            List with the n most important features\n",
    "    \"\"\"\n",
    "    # Splits the target and the features\n",
    "    X = df.drop(\"class\", axis='columns')\n",
    "    y = df[\"class\"]\n",
    "    \n",
    "    # Train the Forest\n",
    "    forest = RandomForestClassifier(n_estimators=100,\n",
    "                                random_state=RANDOM_STATE,\n",
    "                                criterion=CRITERION,\n",
    "                                max_depth=MAX_DEPTH,\n",
    "                                class_weight=CLASS_WEIGHT)\n",
    "    forest.fit(X, y)\n",
    "    \n",
    "    # Get the feature importance\n",
    "    feature_imp = pd.Series(forest.feature_importances_, index=X.columns)\n",
    "    feature_imp = feature_imp.sort_values(ascending=False)\n",
    "\n",
    "    selected_features = feature_imp.head(n).index.tolist()\n",
    "\n",
    "    return selected_features"
   ]
  },
  {
   "cell_type": "code",
   "execution_count": 5,
   "metadata": {},
   "outputs": [],
   "source": [
    "def select_anova(df: pd.DataFrame, n: int) -> list[str]:\n",
    "    \"\"\"\n",
    "    Given a DataFrame, returns the n most important features based on the \n",
    "    ANOVA F-Value from SelectKBest\n",
    "        df: pd.DataFrame\n",
    "            DataFrame with the data\n",
    "        n: int\n",
    "            Number of features to return\n",
    "        return: list\n",
    "            List with the n most important features\n",
    "    \"\"\"\n",
    "    # Splits the target and the features\n",
    "    X = df.drop(\"class\", axis='columns')\n",
    "    y = df[\"class\"]\n",
    "\n",
    "    # Fit the selector to the data\n",
    "    selector = SelectKBest(f_classif, k=n)\n",
    "    selector.fit(X, y)\n",
    "\n",
    "    # Get the selected features with highest f-value\n",
    "    selected_indices = np.argsort(selector.scores_)[::-1][:n]\n",
    "    selected_features = X.columns[selected_indices].tolist()\n",
    "    \n",
    "    return selected_features\n",
    "\n"
   ]
  },
  {
   "cell_type": "code",
   "execution_count": 6,
   "metadata": {},
   "outputs": [],
   "source": [
    "def select_rfe(df: pd.DataFrame, n: int) -> list[str]:\n",
    "    \"\"\"\n",
    "    Given a DataFrame, returns the n most important features selected\n",
    "    by Recursive Feature Elimination with a Support Vector Classifier\n",
    "        df: pd.DataFrame\n",
    "            DataFrame with the data\n",
    "        n: int\n",
    "            Number of features to return\n",
    "        return: list\n",
    "            List with the n most important features\n",
    "    \"\"\"\n",
    "    # Splits the target and and features\n",
    "    X = df.drop(\"class\", axis='columns')\n",
    "    y = df[\"class\"]\n",
    "\n",
    "    # Fit the selector to the data\n",
    "    estimator = SVC(kernel=\"linear\")\n",
    "    selector = RFE(estimator, n_features_to_select=n, step=1)\n",
    "    selector = selector.fit(X, y)\n",
    "\n",
    "    selected_features = X.columns[selector.support_].tolist()\n",
    "\n",
    "    return selected_features"
   ]
  },
  {
   "cell_type": "code",
   "execution_count": 7,
   "metadata": {},
   "outputs": [
    {
     "name": "stdout",
     "output_type": "stream",
     "text": [
      "Counter({'total_time3': 2, 'total_time15': 2, 'air_time15': 2, 'gmrt_in_air7': 1, 'mean_gmrt7': 1, 'disp_index23': 1, 'mean_speed_in_air7': 1, 'paper_time9': 1, 'air_time16': 1, 'mean_gmrt17': 1, 'total_time9': 1, 'disp_index22': 1, 'total_time23': 1, 'air_time23': 1, 'air_time17': 1, 'total_time6': 1, 'total_time17': 1, 'paper_time17': 1, 'total_time8': 1, 'pressure_var5': 1, 'disp_index8': 1, 'mean_jerk_on_paper8': 1, 'paper_time12': 1, 'gmrt_in_air17': 1, 'max_y_extension19': 1, 'disp_index21': 1, 'air_time24': 1})\n"
     ]
    }
   ],
   "source": [
    "from collections import Counter\n",
    "\n",
    "counter = Counter(select_anova(df, FEATURE_NUM) + select_feature_imp(df, FEATURE_NUM) + select_rfe(df, FEATURE_NUM))\n",
    "print(counter)"
   ]
  },
  {
   "cell_type": "code",
   "execution_count": 8,
   "metadata": {},
   "outputs": [],
   "source": [
    "feature_imp = df[select_feature_imp(df, FEATURE_NUM)]\n",
    "anova = df[select_anova(df, FEATURE_NUM)]\n",
    "rfe = df[select_rfe(df, FEATURE_NUM)]"
   ]
  },
  {
   "cell_type": "code",
   "execution_count": 9,
   "metadata": {},
   "outputs": [
    {
     "name": "stdout",
     "output_type": "stream",
     "text": [
      "Index(['total_time23', 'total_time15', 'air_time15', 'air_time23',\n",
      "       'air_time17', 'total_time6', 'total_time17', 'paper_time17',\n",
      "       'total_time3', 'total_time8'],\n",
      "      dtype='object')\n",
      "Index(['gmrt_in_air7', 'mean_gmrt7', 'disp_index23', 'mean_speed_in_air7',\n",
      "       'paper_time9', 'air_time16', 'mean_gmrt17', 'total_time9',\n",
      "       'disp_index22', 'total_time3'],\n",
      "      dtype='object')\n",
      "Index(['pressure_var5', 'disp_index8', 'mean_jerk_on_paper8', 'paper_time12',\n",
      "       'air_time15', 'total_time15', 'gmrt_in_air17', 'max_y_extension19',\n",
      "       'disp_index21', 'air_time24'],\n",
      "      dtype='object')\n"
     ]
    }
   ],
   "source": [
    "print(feature_imp.columns)\n",
    "print(anova.columns)\n",
    "print(rfe.columns)"
   ]
  },
  {
   "cell_type": "code",
   "execution_count": 10,
   "metadata": {},
   "outputs": [],
   "source": [
    "assert feature_imp.shape[1] == FEATURE_NUM\n",
    "assert anova.shape[1] == FEATURE_NUM\n",
    "assert rfe.shape[1] == FEATURE_NUM"
   ]
  }
 ],
 "metadata": {
  "kernelspec": {
   "display_name": "refactor-darwin",
   "language": "python",
   "name": "python3"
  },
  "language_info": {
   "codemirror_mode": {
    "name": "ipython",
    "version": 3
   },
   "file_extension": ".py",
   "mimetype": "text/x-python",
   "name": "python",
   "nbconvert_exporter": "python",
   "pygments_lexer": "ipython3",
   "version": "3.12.9"
  }
 },
 "nbformat": 4,
 "nbformat_minor": 2
}
